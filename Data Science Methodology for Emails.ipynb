{
 "cells": [
  {
   "cell_type": "markdown",
   "metadata": {},
   "source": [
    "# Data Science Methodology for Emails #"
   ]
  },
  {
   "cell_type": "markdown",
   "metadata": {},
   "source": [
    "### Which topic did you choose to apply the data science methodology to? ###"
   ]
  },
  {
   "cell_type": "markdown",
   "metadata": {},
   "source": [
    "I have chosen as a topic for this task the application of data science in the field of emails because, in our mailbox, we receive emails from our friends, subscriptions and so on but sometimes we receive lots of mail which are fishy trying to steal our password, give discounts and ask for personal information for lucky draw prize to be won."
   ]
  },
  {
   "cell_type": "markdown",
   "metadata": {},
   "source": [
    "### Using the topic, complete the Business Understanding stage by coming up with a problem that you would like to solve and phrasing it in the form of a question that you will use data to answer.  ###\n",
    "### You are required to: ###\n",
    "### Describe the problem, related to the topic you selected. ###\n",
    "### Phrase the problem as a question to be answered using data. ###\n",
    "### For example, using the food recipes use case discussed in the labs, the question that we defined was, \"Can we automatically determine the cuisine of a given dish based on its ingredients?\". ###"
   ]
  },
  {
   "cell_type": "markdown",
   "metadata": {},
   "source": [
    "So, some of the effects of Spam are:\n",
    "1. Fills your Inbox with a number of ridiculous emails.\n",
    "2. Degrades your Internet speed to a great extent.\n",
    "3. Steals useful information like your details on your Contact list.\n",
    "4. Alters your search results on any search engine.\n",
    "\n",
    "So my question as a client would be -\n",
    " **\"Can we automatically detect such spam emails and put them in the spam folder? \"**"
   ]
  },
  {
   "cell_type": "markdown",
   "metadata": {},
   "source": [
    "### Briefly explain how you would complete each of the following stages for the problem that you described in the Business Understanding stage, so that you are ultimately able to answer the question that you came up with. ###\n",
    "### 1. Analytic Approach ###\n",
    "### 2. Data Requirements ###\n",
    "### 3. Data Collection ###\n",
    "### 4. Data Understanding and Preparation ###\n",
    "### 5. Modeling and Evaluation ###"
   ]
  },
  {
   "cell_type": "markdown",
   "metadata": {},
   "source": [
    "**1.  Analytic Approach :**\n",
    "\n",
    "Here we must classify the mails which we receive in our E-mail Id to spam and non-spam. So, the basic question is whether the mail received is a spam or not spam. So, we shall use the classification model as it gives us the answer as yes or no. If the result comes as yes, the mail shall go to the spam folder and if no it shall be delivered as a normal mail in our Inbox.\n",
    "\n",
    "**2.  Data requirements :**\n",
    "\n",
    "For this,  we need all the emails which we have received. Thus, identifying the data fulfils the data requirement stage of the data science methodology.\n",
    "\n",
    "**3.  Data Collection :**\n",
    "\n",
    "Now that we have identified our data requirements, we shall start collecting the data for it. We shall collect all the mail from our mailboxes. But that is not enough. We shall collect more mail samples from our friends or the Internet for increasing our data. The data thus collected can be structured, unstructured or semi-structured.\n",
    "\n",
    "**4. Data Understanding and Preparation :**\n",
    "\n",
    "Now that we have the data, we will understand its content, access its quality, discover any preliminary insights and determine whether additional data is necessary to full in the gaps. We see some mails are deliberately have spelling mistakes like med1icine, w4tches and so on. Some mails are having punctuation errors. Some are offering us deals and discounts. Some mails are asking us for our personal information and passwords. All these mails are looking fishy and could be spam.\n",
    "We then see try to establish a relationship between them. We plot histogram and other plots to see how the variables are distributed. See their maximum, minimum, mean and other parameters. We see that discount word occurring as discounts, discounted and discounting. Should we consider them as one? We must decide and start the preparation of the data accordingly.\n",
    "Data preparation that is also known as data cleaning requires 70% to 90% time of our project and if done properly will give us a correct model. We remove all the mails which are duplicate that is they are having the same content. We consider all the mails having words such as discount, discounts, discounted and discounting as one. We do feature engineering and we add or delete columns as per our findings.\n",
    "Once we have removed, added and did all the other operations on our data, we merge all the data in one table which is a data frame. With this, our data preparation is completed.\n",
    "\n",
    "**5. Modelling and Evaluation :**\n",
    "\n",
    "We have different algorithms and libraries which we can download and install and build models with our data frame. Try different algorithms and choose the one which gives you the most accuracy. To achieve this, you have to understand the question for which you are solving the problem for, in our case, it is whether the mail is spam or not. Then select an analytic approach or method to solve the problem.\n",
    "Then we do the evaluation of our model, that checks its quality. We split our data set into a training set and a test set. We build our model using the training set. Then we will test the model on the test set and compare the spam emails that the model predicts to the actual spam emails.\n",
    "\n",
    "**6. Deployment :**\n",
    "\n",
    "It is the actual application of the model. We deploy our model to classify mail as spam and non-spam and the spam mail goes into the spam folder.\n",
    "\n",
    "**7. Feedback :**\n",
    "\n",
    "This is tested by the client whether the model is giving the right output or not. If it is giving the right results, we set up it for the client. If it is not giving the right result, we again start the modelling process with feedback given by the client. If we require to collect new data, we collect it. It is an iterative process and continues until the client gets the right result.\n"
   ]
  }
 ],
 "metadata": {
  "kernelspec": {
   "display_name": "Python 3",
   "language": "python",
   "name": "python3"
  },
  "language_info": {
   "codemirror_mode": {
    "name": "ipython",
    "version": 3
   },
   "file_extension": ".py",
   "mimetype": "text/x-python",
   "name": "python",
   "nbconvert_exporter": "python",
   "pygments_lexer": "ipython3",
   "version": "3.7.6"
  }
 },
 "nbformat": 4,
 "nbformat_minor": 4
}
